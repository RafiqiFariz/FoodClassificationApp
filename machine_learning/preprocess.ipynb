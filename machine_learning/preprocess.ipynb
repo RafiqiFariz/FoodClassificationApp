{
 "cells": [
  {
   "cell_type": "code",
   "metadata": {
    "ExecuteTime": {
     "end_time": "2024-06-04T12:16:16.958711Z",
     "start_time": "2024-06-04T12:16:16.940327Z"
    }
   },
   "source": [
    "import cv2\n",
    "import os\n",
    "\n",
    "\n",
    "def crop(filename, output_dir):\n",
    "    image = cv2.imread(filename, cv2.IMREAD_COLOR)\n",
    "\n",
    "    # Check if image is loaded successfully\n",
    "    if image is None:\n",
    "        # print(f\"Failed to load image: {filename}\")\n",
    "        return\n",
    "\n",
    "    # Extract class name and file name from the original path\n",
    "    class_name = filename.split(os.sep)[-2]\n",
    "    file_name = filename.split(os.sep)[-1]\n",
    "\n",
    "    # Create the directory in the processed folder if it doesn't exist\n",
    "    class_dir = os.path.join(output_dir, class_name)\n",
    "    if not os.path.exists(class_dir):\n",
    "        os.makedirs(class_dir)\n",
    "\n",
    "    # Save the processed image in the corresponding class folder\n",
    "    output_path = os.path.join(class_dir, file_name)\n",
    "\n",
    "    height, width = image.shape[0], image.shape[1]\n",
    "\n",
    "    if height == width:\n",
    "        cv2.imwrite(output_path, image)\n",
    "        return None\n",
    "\n",
    "    dimension = height if height < width else width\n",
    "    top = (height // 2) - (dimension // 2)\n",
    "    bottom = (height // 2) + (dimension // 2)\n",
    "    left = (width // 2) - (dimension // 2)\n",
    "    right = (width // 2) + (dimension // 2)\n",
    "\n",
    "    crop_img = image[top:bottom, left:right]\n",
    "    cv2.imwrite(output_path, crop_img)\n",
    "\n",
    "\n",
    "def crop_and_resize(filename, output_dir, target_size_kb=300):\n",
    "    global encoded_img\n",
    "    image = cv2.imread(filename, cv2.IMREAD_COLOR)\n",
    "\n",
    "    if image is None:\n",
    "        return\n",
    "\n",
    "    # Convert to BGR if image is in RGBA (PNG with transparency)\n",
    "    if image.shape[2] == 4:  # Check if it has an alpha channel\n",
    "        image = cv2.cvtColor(image, cv2.COLOR_RGBA2BGR)\n",
    "\n",
    "    class_name = filename.split(os.sep)[-2]\n",
    "    file_name_without_ext = os.path.splitext(filename.split(os.sep)[-1])[0]  # Get filename without extension\n",
    "\n",
    "    class_dir = os.path.join(output_dir, class_name)\n",
    "    os.makedirs(class_dir, exist_ok=True)\n",
    "\n",
    "    output_path = os.path.join(class_dir, f\"{file_name_without_ext}.jpg\")  # Force .jpg extension\n",
    "\n",
    "    height, width = image.shape[0], image.shape[1]\n",
    "\n",
    "    if height != width:\n",
    "        dimension = min(height, width)\n",
    "        top = (height // 2) - (dimension // 2)\n",
    "        bottom = (height // 2) + (dimension // 2)\n",
    "        left = (width // 2) - (dimension // 2)\n",
    "        right = (width // 2) + (dimension // 2)\n",
    "        image = image[top:bottom, left:right]\n",
    "\n",
    "    # Resize image\n",
    "    scale_percent = 100\n",
    "    while scale_percent >= 10:\n",
    "        result, encoded_img = cv2.imencode('.jpg', image, [int(cv2.IMWRITE_JPEG_QUALITY), scale_percent])\n",
    "        if result and len(encoded_img) <= target_size_kb * 1024:\n",
    "            break\n",
    "        scale_percent -= 5\n",
    "\n",
    "    try:\n",
    "        with open(output_path, \"wb\") as f:\n",
    "            f.write(encoded_img)\n",
    "    except Exception as e:\n",
    "        print(f\"Error saving image {output_path}: {e}\")"
   ],
   "outputs": [],
   "execution_count": 20
  },
  {
   "cell_type": "code",
   "metadata": {
    "ExecuteTime": {
     "end_time": "2024-06-04T12:29:04.062144Z",
     "start_time": "2024-06-04T12:16:31.202852Z"
    }
   },
   "source": [
    "# Directory paths\n",
    "input_directory = '.\\\\dataset\\\\train'\n",
    "output_directory = '.\\\\dataset\\\\processed\\\\train'\n",
    "\n",
    "for root, dirs, files in os.walk(input_directory):\n",
    "    for filename in files:\n",
    "        if filename.lower().endswith(('.png', '.jpg', '.jpeg')):\n",
    "            file_path = os.path.join(root, filename)\n",
    "            crop_and_resize(file_path, output_directory)"
   ],
   "outputs": [],
   "execution_count": 21
  }
 ],
 "metadata": {
  "kernelspec": {
   "display_name": "Python 3.10.6 64-bit",
   "language": "python",
   "name": "python3"
  },
  "language_info": {
   "codemirror_mode": {
    "name": "ipython",
    "version": 3
   },
   "file_extension": ".py",
   "mimetype": "text/x-python",
   "name": "python",
   "nbconvert_exporter": "python",
   "pygments_lexer": "ipython3",
   "version": "3.10.6"
  },
  "orig_nbformat": 4,
  "vscode": {
   "interpreter": {
    "hash": "12ad04600b7f7e1eb247062de464ce748843089d4f432d5c4a03e63726821772"
   }
  }
 },
 "nbformat": 4,
 "nbformat_minor": 2
}
